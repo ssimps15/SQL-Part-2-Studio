{
    "metadata": {
        "kernelspec": {
            "name": "SQL",
            "display_name": "SQL",
            "language": "sql"
        },
        "language_info": {
            "name": "sql",
            "version": ""
        },
        "extensions": {
            "azuredatastudio": {
                "version": 1,
                "views": []
            }
        }
    },
    "nbformat_minor": 2,
    "nbformat": 4,
    "cells": [
        {
            "cell_type": "markdown",
            "source": [
                "# Lesson 11: SQL Part 2 Studio\n",
                "\n",
                "> This studio asks you to create queries using the functions from this lesson. As you work through the studio, you may need to create more than one query to return the desired answer.  For others, you may need to combine functions together in order to answer the original query.  The questions have been organized in a way to help you puzzle out the answers.\n",
                "> \n",
                "> Happy querying! \n",
                "\n",
                "**The Dataset:**   \n",
                "\n",
                "> We will be working with the **BooksDB dataset** from Lesson 10.  You should already have access to it."
            ],
            "metadata": {
                "azdata_cell_guid": "bbaa021d-dbcb-4f90-a05f-f280d524589a"
            },
            "attachments": {}
        },
        {
            "cell_type": "markdown",
            "source": [
                "## The Questions:"
            ],
            "metadata": {
                "azdata_cell_guid": "bfc33995-70d4-4403-a870-39244e5e9727"
            }
        },
        {
            "cell_type": "markdown",
            "source": [
                "1.  Create a query that returns the longest title in the dataset.  We can do this in two steps.\n",
                "\n",
                "> A. Create a query that returns the length of the longest title.\n",
                "> \n",
                "> B. Create a query that uses the length you found in step A to find the longest title."
            ],
            "metadata": {
                "azdata_cell_guid": "29e63840-f200-4b1b-9239-4dc60a402c1d"
            },
            "attachments": {}
        },
        {
            "cell_type": "code",
            "source": [
                "SELECT TOP 5\n",
                "LEN (title) as 'length of title',\n",
                "title\n",
                "FROM books\n",
                "ORDER BY [length of title] DESC"
            ],
            "metadata": {
                "azdata_cell_guid": "fc1a211d-ea4e-446a-bbf8-e31499c50aba",
                "language": "sql"
            },
            "outputs": [
                {
                    "output_type": "display_data",
                    "data": {
                        "text/html": "(5 rows affected)"
                    },
                    "metadata": {}
                },
                {
                    "output_type": "display_data",
                    "data": {
                        "text/html": "Total execution time: 00:00:00.064"
                    },
                    "metadata": {}
                },
                {
                    "output_type": "execute_result",
                    "metadata": {},
                    "execution_count": 1,
                    "data": {
                        "application/vnd.dataresource+json": {
                            "schema": {
                                "fields": [
                                    {
                                        "name": "length of title"
                                    },
                                    {
                                        "name": "title"
                                    }
                                ]
                            },
                            "data": [
                                {
                                    "0": "186",
                                    "1": "Soccernomics: Why England Loses, Why Germany and Brazil Win, and Why the U.S., Japan, Australia, Turkey--and Even Iraq--Are Destined to Become the Kings of the World's Most Popular Sport"
                                },
                                {
                                    "0": "174",
                                    "1": "Bright Lights, Big Ass: A Self-Indulgent, Surly, Ex-Sorority Girl's Guide to Why It Often Sucks in the City, or Who Are These Idiots and Why Do They All Live Next Door to Me?"
                                },
                                {
                                    "0": "167",
                                    "1": "The Unofficial Harry Potter Cookbook: From Cauldron Cakes to Knickerbocker Glory--More Than 150 Magical Recipes for Wizards and Non-Wizards Alike (Unofficial Cookbook)"
                                },
                                {
                                    "0": "165",
                                    "1": "The Art Spirit: Notes, Articles, Fragments of Letters and Talks to Students, Bearing on the Concept and Technique of Picture Making, the Study of Art (Icon Editions)"
                                },
                                {
                                    "0": "163",
                                    "1": "Bitter Is the New Black: Confessions of a Condescending, Egomaniacal, Self-Centered Smartass, Or, Why You Should Never Carry A Prada Bag to the Unemployment Office"
                                }
                            ]
                        },
                        "text/html": [
                            "<table>",
                            "<tr><th>length of title</th><th>title</th></tr>",
                            "<tr><td>186</td><td>Soccernomics: Why England Loses, Why Germany and Brazil Win, and Why the U.S., Japan, Australia, Turkey--and Even Iraq--Are Destined to Become the Kings of the World's Most Popular Sport</td></tr>",
                            "<tr><td>174</td><td>Bright Lights, Big Ass: A Self-Indulgent, Surly, Ex-Sorority Girl's Guide to Why It Often Sucks in the City, or Who Are These Idiots and Why Do They All Live Next Door to Me?</td></tr>",
                            "<tr><td>167</td><td>The Unofficial Harry Potter Cookbook: From Cauldron Cakes to Knickerbocker Glory--More Than 150 Magical Recipes for Wizards and Non-Wizards Alike (Unofficial Cookbook)</td></tr>",
                            "<tr><td>165</td><td>The Art Spirit: Notes, Articles, Fragments of Letters and Talks to Students, Bearing on the Concept and Technique of Picture Making, the Study of Art (Icon Editions)</td></tr>",
                            "<tr><td>163</td><td>Bitter Is the New Black: Confessions of a Condescending, Egomaniacal, Self-Centered Smartass, Or, Why You Should Never Carry A Prada Bag to the Unemployment Office</td></tr>",
                            "</table>"
                        ]
                    }
                }
            ],
            "execution_count": 1
        },
        {
            "cell_type": "markdown",
            "source": [
                "2.  Use what you learned in question 1 to find the shortest author name.  \n",
                "\n",
                "> A. Create a query that returns the length of the shortest author.\n",
                "> \n",
                "> B. Create a query that returns the shortest author's name."
            ],
            "metadata": {
                "azdata_cell_guid": "5de64491-7324-44ce-bda4-e22b07229854"
            },
            "attachments": {}
        },
        {
            "cell_type": "code",
            "source": [
                "SELECT TOP 5\n",
                "LEN (authors) as 'length of author',\n",
                "authors\n",
                "FROM books\n",
                "ORDER BY [length of author] ASC"
            ],
            "metadata": {
                "azdata_cell_guid": "61423c75-cb55-470f-b062-a1901d3da67c",
                "language": "sql"
            },
            "outputs": [
                {
                    "output_type": "display_data",
                    "data": {
                        "text/html": "(5 rows affected)"
                    },
                    "metadata": {}
                },
                {
                    "output_type": "display_data",
                    "data": {
                        "text/html": "Total execution time: 00:00:00.057"
                    },
                    "metadata": {}
                },
                {
                    "output_type": "execute_result",
                    "metadata": {},
                    "execution_count": 2,
                    "data": {
                        "application/vnd.dataresource+json": {
                            "schema": {
                                "fields": [
                                    {
                                        "name": "length of author"
                                    },
                                    {
                                        "name": "authors"
                                    }
                                ]
                            },
                            "data": [
                                {
                                    "0": "3",
                                    "1": "Avi"
                                },
                                {
                                    "0": "3",
                                    "1": "Avi"
                                },
                                {
                                    "0": "4",
                                    "1": "Zane"
                                },
                                {
                                    "0": "5",
                                    "1": "Tijan"
                                },
                                {
                                    "0": "5",
                                    "1": "Tijan"
                                }
                            ]
                        },
                        "text/html": [
                            "<table>",
                            "<tr><th>length of author</th><th>authors</th></tr>",
                            "<tr><td>3</td><td>Avi</td></tr>",
                            "<tr><td>3</td><td>Avi</td></tr>",
                            "<tr><td>4</td><td>Zane</td></tr>",
                            "<tr><td>5</td><td>Tijan</td></tr>",
                            "<tr><td>5</td><td>Tijan</td></tr>",
                            "</table>"
                        ]
                    }
                }
            ],
            "execution_count": 2
        },
        {
            "cell_type": "markdown",
            "source": [
                "3\\. How many titles contain the word \"The\"?  \n",
                "\n",
                "> A. Is there a difference between the number of titles that use \"The\" or \"the\"? No"
            ],
            "metadata": {
                "azdata_cell_guid": "97f50346-9729-4d1b-926c-e1b53c5c5e68"
            },
            "attachments": {}
        },
        {
            "cell_type": "code",
            "source": [
                "SELECT \n",
                "COUNT (title) \n",
                "AS 'Number of books that contain The'\n",
                "FROM books\n",
                "WHERE\n",
                "title LIKE '%The %' OR title LIKE '%the %'"
            ],
            "metadata": {
                "azdata_cell_guid": "f58433db-eb3b-46e0-bb4d-85ca52d359b5",
                "language": "sql"
            },
            "outputs": [
                {
                    "output_type": "display_data",
                    "data": {
                        "text/html": "(1 row affected)"
                    },
                    "metadata": {}
                },
                {
                    "output_type": "display_data",
                    "data": {
                        "text/html": "Total execution time: 00:00:00.069"
                    },
                    "metadata": {}
                },
                {
                    "output_type": "execute_result",
                    "metadata": {},
                    "execution_count": 9,
                    "data": {
                        "application/vnd.dataresource+json": {
                            "schema": {
                                "fields": [
                                    {
                                        "name": "Number of books that contain The"
                                    }
                                ]
                            },
                            "data": [
                                {
                                    "0": "4506"
                                }
                            ]
                        },
                        "text/html": [
                            "<table>",
                            "<tr><th>Number of books that contain The</th></tr>",
                            "<tr><td>4506</td></tr>",
                            "</table>"
                        ]
                    }
                }
            ],
            "execution_count": 9
        },
        {
            "cell_type": "markdown",
            "source": [
                "4.  How many authors' names _start_ with 'Z'?"
            ],
            "metadata": {
                "azdata_cell_guid": "e0d89eca-410d-4e29-82ca-265b79c73fea"
            },
            "attachments": {}
        },
        {
            "cell_type": "code",
            "source": [
                "SELECT \n",
                "COUNT (authors)\n",
                "AS 'Authors w Z names'\n",
                "FROM books \n",
                "WHERE authors LIKE 'Z%'"
            ],
            "metadata": {
                "azdata_cell_guid": "850f04c8-458a-4cfb-95c4-4dbb7a3d63d0",
                "language": "sql"
            },
            "outputs": [
                {
                    "output_type": "display_data",
                    "data": {
                        "text/html": "(1 row affected)"
                    },
                    "metadata": {}
                },
                {
                    "output_type": "display_data",
                    "data": {
                        "text/html": "Total execution time: 00:00:00.052"
                    },
                    "metadata": {}
                },
                {
                    "output_type": "execute_result",
                    "metadata": {},
                    "execution_count": 8,
                    "data": {
                        "application/vnd.dataresource+json": {
                            "schema": {
                                "fields": [
                                    {
                                        "name": "Authors w Z names"
                                    }
                                ]
                            },
                            "data": [
                                {
                                    "0": "11"
                                }
                            ]
                        },
                        "text/html": [
                            "<table>",
                            "<tr><th>Authors w Z names</th></tr>",
                            "<tr><td>11</td></tr>",
                            "</table>"
                        ]
                    }
                }
            ],
            "execution_count": 8
        },
        {
            "cell_type": "markdown",
            "source": [
                "5\\. How many books have been identified as printed in a language other than English?  There are four language codes for English: 'en', 'eng', 'en-US', and 'en-UK'.  Use LEFT to answer the question.  (Do not use the wildcard)\n",
                "\n",
                "You might want to use one of these [comparison operators](https://docs.microsoft.com/en-us/sql/t-sql/language-elements/comparison-operators-transact-sql?view=sql-server-ver15)."
            ],
            "metadata": {
                "azdata_cell_guid": "7066afeb-79d2-4e7f-b497-cbde17655b19"
            },
            "attachments": {}
        },
        {
            "cell_type": "code",
            "source": [
                "SELECT \n",
                "COUNT(language_code)\n",
                "FROM\n",
                "    books\n",
                "WHERE \n",
                "LEFT (language_code,2) != 'en'\n",
                "     "
            ],
            "metadata": {
                "azdata_cell_guid": "5a85f5ae-dd59-4fa1-828a-c63fa330ff7f",
                "language": "sql"
            },
            "outputs": [
                {
                    "output_type": "display_data",
                    "data": {
                        "text/html": "(1 row affected)"
                    },
                    "metadata": {}
                },
                {
                    "output_type": "display_data",
                    "data": {
                        "text/html": "Total execution time: 00:00:00.048"
                    },
                    "metadata": {}
                },
                {
                    "output_type": "execute_result",
                    "metadata": {},
                    "execution_count": 7,
                    "data": {
                        "application/vnd.dataresource+json": {
                            "schema": {
                                "fields": [
                                    {
                                        "name": "(No column name)"
                                    }
                                ]
                            },
                            "data": [
                                {
                                    "0": "186"
                                }
                            ]
                        },
                        "text/html": [
                            "<table>",
                            "<tr><th>(No column name)</th></tr>",
                            "<tr><td>186</td></tr>",
                            "</table>"
                        ]
                    }
                }
            ],
            "execution_count": 7
        },
        {
            "cell_type": "markdown",
            "source": [
                "6\\. Retry question 5 using SUBSTRING."
            ],
            "metadata": {
                "azdata_cell_guid": "93153cd1-ecea-4e4b-87f5-2214993a7291"
            },
            "attachments": {}
        },
        {
            "cell_type": "code",
            "source": [
                "SELECT \n",
                "COUNT(language_code)\n",
                "FROM\n",
                "    books\n",
                "WHERE \n",
                "SUBSTRING (language_code,1,2) != 'en'"
            ],
            "metadata": {
                "azdata_cell_guid": "7756ae02-4ec2-4456-b3a7-c3604bf07e26",
                "language": "sql"
            },
            "outputs": [
                {
                    "output_type": "display_data",
                    "data": {
                        "text/html": "(1 row affected)"
                    },
                    "metadata": {}
                },
                {
                    "output_type": "display_data",
                    "data": {
                        "text/html": "Total execution time: 00:00:00.041"
                    },
                    "metadata": {}
                },
                {
                    "output_type": "execute_result",
                    "metadata": {},
                    "execution_count": 6,
                    "data": {
                        "application/vnd.dataresource+json": {
                            "schema": {
                                "fields": [
                                    {
                                        "name": "(No column name)"
                                    }
                                ]
                            },
                            "data": [
                                {
                                    "0": "186"
                                }
                            ]
                        },
                        "text/html": [
                            "<table>",
                            "<tr><th>(No column name)</th></tr>",
                            "<tr><td>186</td></tr>",
                            "</table>"
                        ]
                    }
                }
            ],
            "execution_count": 6
        },
        {
            "cell_type": "markdown",
            "source": [
                "7.  Create a column that returns the title, authors, and language codes.  Concatenate these elements so that they return in the following way: title by authors in language\\_code language.\n",
                "\n",
                "> A.  Check each selected column to see where any values are NULL.  Did any of the columns contain NULL values?  If so, which one?"
            ],
            "metadata": {
                "azdata_cell_guid": "c8124542-ea76-4153-96ef-f4db908fbd6c"
            },
            "attachments": {}
        },
        {
            "cell_type": "code",
            "source": [
                "SELECT TOP 5\n",
                "CONCAT (title,' by ',authors,' in ',language_code ) AS 'Book Listing'\n",
                "FROM books\n",
                "--WHERE title IS NULL OR authors IS NULL OR language_code IS NULL;"
            ],
            "metadata": {
                "azdata_cell_guid": "26705af1-6191-48b9-b649-7bc93cad102d",
                "language": "sql"
            },
            "outputs": [
                {
                    "output_type": "display_data",
                    "data": {
                        "text/html": "(5 rows affected)"
                    },
                    "metadata": {}
                },
                {
                    "output_type": "display_data",
                    "data": {
                        "text/html": "Total execution time: 00:00:00.036"
                    },
                    "metadata": {}
                },
                {
                    "output_type": "execute_result",
                    "metadata": {},
                    "execution_count": 5,
                    "data": {
                        "application/vnd.dataresource+json": {
                            "schema": {
                                "fields": [
                                    {
                                        "name": "Book Listing"
                                    }
                                ]
                            },
                            "data": [
                                {
                                    "0": "The Hunger Games (The Hunger Games, #1) by Suzanne Collins in eng"
                                },
                                {
                                    "0": "Harry Potter and the Sorcerer's Stone (Harry Potter, #1) by J.K. Rowling, Mary GrandPré in eng"
                                },
                                {
                                    "0": "Twilight (Twilight, #1) by Stephenie Meyer in en-US"
                                },
                                {
                                    "0": "To Kill a Mockingbird by Harper Lee in eng"
                                },
                                {
                                    "0": "The Great Gatsby by F. Scott Fitzgerald in eng"
                                }
                            ]
                        },
                        "text/html": [
                            "<table>",
                            "<tr><th>Book Listing</th></tr>",
                            "<tr><td>The Hunger Games (The Hunger Games, #1) by Suzanne Collins in eng</td></tr>",
                            "<tr><td>Harry Potter and the Sorcerer's Stone (Harry Potter, #1) by J.K. Rowling, Mary GrandPré in eng</td></tr>",
                            "<tr><td>Twilight (Twilight, #1) by Stephenie Meyer in en-US</td></tr>",
                            "<tr><td>To Kill a Mockingbird by Harper Lee in eng</td></tr>",
                            "<tr><td>The Great Gatsby by F. Scott Fitzgerald in eng</td></tr>",
                            "</table>"
                        ]
                    }
                }
            ],
            "execution_count": 5
        },
        {
            "cell_type": "markdown",
            "source": [
                "8.  Update the query in question 7 using COALESCE to change the language code values from NULL to 'unknown'.\n",
                "\n",
                "> A.  Has this changed the language\\_code  where the values are NULL?"
            ],
            "metadata": {
                "azdata_cell_guid": "17fd76a8-afa7-4d86-a200-2902d7310a2b"
            },
            "attachments": {}
        },
        {
            "cell_type": "code",
            "source": [
                "SELECT TOP 5\n",
                "title +' by ' + authors +' in ' + COALESCE(language_code,'unknown') AS 'Book Listing_Updated'\n",
                "FROM books\n",
                "--WHERE language_code is NULL"
            ],
            "metadata": {
                "azdata_cell_guid": "f9694996-4545-48b9-9981-325b5c590570",
                "language": "sql"
            },
            "outputs": [
                {
                    "output_type": "display_data",
                    "data": {
                        "text/html": "(5 rows affected)"
                    },
                    "metadata": {}
                },
                {
                    "output_type": "display_data",
                    "data": {
                        "text/html": "Total execution time: 00:00:00.037"
                    },
                    "metadata": {}
                },
                {
                    "output_type": "execute_result",
                    "metadata": {},
                    "execution_count": 4,
                    "data": {
                        "application/vnd.dataresource+json": {
                            "schema": {
                                "fields": [
                                    {
                                        "name": "Book Listing_Updated"
                                    }
                                ]
                            },
                            "data": [
                                {
                                    "0": "The Hunger Games (The Hunger Games, #1) by Suzanne Collins in eng"
                                },
                                {
                                    "0": "Harry Potter and the Sorcerer's Stone (Harry Potter, #1) by J.K. Rowling, Mary GrandPré in eng"
                                },
                                {
                                    "0": "Twilight (Twilight, #1) by Stephenie Meyer in en-US"
                                },
                                {
                                    "0": "To Kill a Mockingbird by Harper Lee in eng"
                                },
                                {
                                    "0": "The Great Gatsby by F. Scott Fitzgerald in eng"
                                }
                            ]
                        },
                        "text/html": [
                            "<table>",
                            "<tr><th>Book Listing_Updated</th></tr>",
                            "<tr><td>The Hunger Games (The Hunger Games, #1) by Suzanne Collins in eng</td></tr>",
                            "<tr><td>Harry Potter and the Sorcerer's Stone (Harry Potter, #1) by J.K. Rowling, Mary GrandPré in eng</td></tr>",
                            "<tr><td>Twilight (Twilight, #1) by Stephenie Meyer in en-US</td></tr>",
                            "<tr><td>To Kill a Mockingbird by Harper Lee in eng</td></tr>",
                            "<tr><td>The Great Gatsby by F. Scott Fitzgerald in eng</td></tr>",
                            "</table>"
                        ]
                    }
                }
            ],
            "execution_count": 4
        },
        {
            "cell_type": "markdown",
            "source": [
                "9\\. Revisit question 7 using ISNULL instead of COALESCE.\n",
                "\n",
                "> A.  Has this changed the language\\_code  where the values are NULL?"
            ],
            "metadata": {
                "azdata_cell_guid": "57b87290-135f-478d-bf1c-2262759f8da5"
            },
            "attachments": {}
        },
        {
            "cell_type": "code",
            "source": [
                "SELECT TOP 5\n",
                "title +' by ' + authors +' in ' + ISNULL(language_code,'unknown') AS 'Book Listing_Null'\n",
                "FROM books\n",
                "--WHERE language_code IS NULL;"
            ],
            "metadata": {
                "azdata_cell_guid": "a9670717-6dc6-4685-9f62-7a588753b4a9",
                "language": "sql"
            },
            "outputs": [
                {
                    "output_type": "display_data",
                    "data": {
                        "text/html": "(5 rows affected)"
                    },
                    "metadata": {}
                },
                {
                    "output_type": "display_data",
                    "data": {
                        "text/html": "Total execution time: 00:00:00.040"
                    },
                    "metadata": {}
                },
                {
                    "output_type": "execute_result",
                    "metadata": {},
                    "execution_count": 3,
                    "data": {
                        "application/vnd.dataresource+json": {
                            "schema": {
                                "fields": [
                                    {
                                        "name": "Book Listing_Null"
                                    }
                                ]
                            },
                            "data": [
                                {
                                    "0": "The Hunger Games (The Hunger Games, #1) by Suzanne Collins in eng"
                                },
                                {
                                    "0": "Harry Potter and the Sorcerer's Stone (Harry Potter, #1) by J.K. Rowling, Mary GrandPré in eng"
                                },
                                {
                                    "0": "Twilight (Twilight, #1) by Stephenie Meyer in en-US"
                                },
                                {
                                    "0": "To Kill a Mockingbird by Harper Lee in eng"
                                },
                                {
                                    "0": "The Great Gatsby by F. Scott Fitzgerald in eng"
                                }
                            ]
                        },
                        "text/html": [
                            "<table>",
                            "<tr><th>Book Listing_Null</th></tr>",
                            "<tr><td>The Hunger Games (The Hunger Games, #1) by Suzanne Collins in eng</td></tr>",
                            "<tr><td>Harry Potter and the Sorcerer's Stone (Harry Potter, #1) by J.K. Rowling, Mary GrandPré in eng</td></tr>",
                            "<tr><td>Twilight (Twilight, #1) by Stephenie Meyer in en-US</td></tr>",
                            "<tr><td>To Kill a Mockingbird by Harper Lee in eng</td></tr>",
                            "<tr><td>The Great Gatsby by F. Scott Fitzgerald in eng</td></tr>",
                            "</table>"
                        ]
                    }
                }
            ],
            "execution_count": 3
        }
    ]
}